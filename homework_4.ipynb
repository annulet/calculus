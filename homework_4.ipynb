{
 "cells": [
  {
   "cell_type": "markdown",
   "metadata": {},
   "source": [
    "# Интегральное исчисление"
   ]
  },
  {
   "cell_type": "markdown",
   "metadata": {},
   "source": [
    "## Задание 1"
   ]
  },
  {
   "cell_type": "markdown",
   "metadata": {},
   "source": [
    "### Найти неопределенный интеграл:"
   ]
  },
  {
   "cell_type": "markdown",
   "metadata": {},
   "source": [
    "$\\int\\left(2 x^{2}-2 x-1+\\sin x-\\cos x+\\ln x+e^{x}\\right) d x = $"
   ]
  },
  {
   "cell_type": "markdown",
   "metadata": {},
   "source": [
    "$= 2\\int x^{2} dx - 2\\int x dx - \\int dx + \\int \\sin x dx - \\int\\cos x dx + \\int \\ln x dx + \\int e^{x} dx =\n",
    "$"
   ]
  },
  {
   "cell_type": "markdown",
   "metadata": {},
   "source": [
    "$= 2\\cfrac{x^3}{3} - 2\\cfrac{x^2}{2} - x - \\cos x - \\sin x + (\\ln x \\cdot x - \\int x \\cdot d \\ln x) + e^x + C =\n",
    "$"
   ]
  },
  {
   "cell_type": "markdown",
   "metadata": {},
   "source": [
    "$= \\cfrac{2}{3} x^3 - x^2 - x - \\cos x - \\sin x + x\\ln x - \\int x \\cfrac{1}{x} dx + e^x + C =\n",
    "$"
   ]
  },
  {
   "cell_type": "markdown",
   "metadata": {},
   "source": [
    "$= \\cfrac{2}{3} x^3 - x^2 - x - \\cos x - \\sin x + (x \\ln x - x) + e^x + C\n",
    "$"
   ]
  },
  {
   "cell_type": "markdown",
   "metadata": {},
   "source": [
    "Сделаем проверку:"
   ]
  },
  {
   "cell_type": "markdown",
   "metadata": {},
   "source": [
    "$(\\cfrac{2}{3} x^3 - x^2 - x - \\cos x - \\sin x + (x \\ln x - x) + e^x + C)' =\n",
    "$"
   ]
  },
  {
   "cell_type": "markdown",
   "metadata": {},
   "source": [
    "$= 2x^2 - 2x - 1 + \\sin x - \\cos x + (x' \\ln x + x \\ln' x - x') + e^x =\n",
    "$"
   ]
  },
  {
   "cell_type": "markdown",
   "metadata": {},
   "source": [
    "$=2x^2 - 2x - 1 + \\sin x - \\cos x + (\\ln x + x \\cfrac{1}{x} - 1) + e^x =\n",
    "$"
   ]
  },
  {
   "cell_type": "markdown",
   "metadata": {},
   "source": [
    "$=2x^2 - 2x - 1 + \\sin x - \\cos x + \\ln x + e^x \n",
    "$"
   ]
  },
  {
   "cell_type": "markdown",
   "metadata": {},
   "source": [
    "## Задание 2"
   ]
  },
  {
   "cell_type": "markdown",
   "metadata": {},
   "source": [
    "### Найти неопределенный интеграл:"
   ]
  },
  {
   "cell_type": "markdown",
   "metadata": {},
   "source": [
    "$\\int\\left(2 x+6 x z^{2}-5 x^{2} y-3 \\ln z\\right) d x =$"
   ]
  },
  {
   "cell_type": "markdown",
   "metadata": {},
   "source": [
    "$= 2\\int x dx + 6z^2\\int x dx - 5y\\int x^{2} dx - 3 \\ln z \\int dx =$"
   ]
  },
  {
   "cell_type": "markdown",
   "metadata": {},
   "source": [
    "$= x^2 + 3z^2x^2 - \\cfrac{5}{3}yx^3 -3\\ln z x + C\n",
    "$"
   ]
  },
  {
   "cell_type": "markdown",
   "metadata": {},
   "source": [
    "Сделаем проверку:"
   ]
  },
  {
   "cell_type": "markdown",
   "metadata": {},
   "source": [
    "$(x^2 + 3z^2x^2 - \\cfrac{5}{3}yx^3 -3\\ln z x + C)'_x =\n",
    "$"
   ]
  },
  {
   "cell_type": "markdown",
   "metadata": {},
   "source": [
    "$= 2 x + 6 z^2 x - 5 y x^2 - 3 \\ln z\n",
    "$"
   ]
  },
  {
   "cell_type": "markdown",
   "metadata": {},
   "source": [
    "## Задание 3"
   ]
  },
  {
   "cell_type": "markdown",
   "metadata": {},
   "source": [
    "### Вычислить определенный интеграл"
   ]
  },
  {
   "cell_type": "markdown",
   "metadata": {},
   "source": [
    "$\\int_{0}^{\\pi} 3 x^{2} \\sin (2 x) d x =$"
   ]
  },
  {
   "cell_type": "markdown",
   "metadata": {},
   "source": [
    "$= \\cfrac{3}{2}\\int_{0}^{\\pi} x^2 (-\\cos 2x)' d 2x =\n",
    "$"
   ]
  },
  {
   "cell_type": "markdown",
   "metadata": {},
   "source": [
    "$= -\\cfrac{3}{2}\\int_{0}^{\\pi} x^2 d \\cos 2x =\n",
    "$"
   ]
  },
  {
   "cell_type": "markdown",
   "metadata": {},
   "source": [
    "$= -\\cfrac{3}{2}\\left( x^2 \\cos 2x - \\int_{0}^{\\pi} \\cos 2x d x^2 \\right) =\n",
    "$"
   ]
  },
  {
   "cell_type": "markdown",
   "metadata": {},
   "source": [
    "$=  \\cfrac{3}{2}\\left(2\\int_{0}^{\\pi}x \\cos 2x dx - x^2 \\cos 2x \\right) =\n",
    "$"
   ]
  },
  {
   "cell_type": "markdown",
   "metadata": {},
   "source": [
    "$=  \\cfrac{3}{2} \\left( \\int_{0}^{\\pi}x (\\sin 2x)' d 2x - x^2 \\cos 2x \\right) =\n",
    "$"
   ]
  },
  {
   "cell_type": "markdown",
   "metadata": {},
   "source": [
    "$=  \\cfrac{3}{2} \\left( \\int_{0}^{\\pi}x d \\sin 2x - x^2 \\cos 2x \\right) =\n",
    "$"
   ]
  },
  {
   "cell_type": "markdown",
   "metadata": {},
   "source": [
    "$=  \\cfrac{3}{2} \\left(x \\sin 2x - \\int_{0}^{\\pi} \\sin 2x dx - x^2 \\cos 2x \\right) =\n",
    "$"
   ]
  },
  {
   "cell_type": "markdown",
   "metadata": {},
   "source": [
    "$=  \\cfrac{3}{2} \\left(x \\sin 2x - \\cfrac{1}{2} \\int_{0}^{\\pi} \\sin 2x d 2x - x^2 \\cos 2x \\right) =\n",
    "$"
   ]
  },
  {
   "cell_type": "markdown",
   "metadata": {},
   "source": [
    "$=  \\left.\\cfrac{3}{2} \\left(x \\sin 2x + \\cfrac{1}{2}  \\cos 2x  - x^2 \\cos 2x \\right)\\right|_0^\\pi =\n",
    "$"
   ]
  },
  {
   "cell_type": "markdown",
   "metadata": {},
   "source": [
    "$= \\cfrac{3}{2} \\left(\\pi \\sin 2\\pi + \\cfrac{1}{2} \\cos 2\\pi - \\pi ^2 \\cos 2\\pi -\n",
    "0 - \\cfrac{1}{2} cos 0 + 0\\right)\n",
    "=$"
   ]
  },
  {
   "cell_type": "markdown",
   "metadata": {},
   "source": [
    "$=\\cfrac{3}{2} \\left(0 + \\cfrac{1}{2} - \\pi ^2 -\n",
    "0 - \\cfrac{1}{2} + 0\\right) = -\\cfrac{3\\pi^2}{2}\n",
    "=$"
   ]
  },
  {
   "cell_type": "markdown",
   "metadata": {},
   "source": [
    "Проверим неопределенный интеграл:"
   ]
  },
  {
   "cell_type": "markdown",
   "metadata": {},
   "source": [
    "$\\left( \\cfrac{3}{2} \\left(x \\sin 2x + \\cfrac{1}{2}  \\cos 2x  - x^2 \\cos 2x \\right) \\right)' =\n",
    "$"
   ]
  },
  {
   "cell_type": "markdown",
   "metadata": {},
   "source": [
    "$= \\cfrac{3}{2} \\left(x \\sin 2x \\right)' + \\cfrac{3}{2}\\left(\\cfrac{1}{2}  \\cos 2x \\right)'  - \\cfrac{3}{2}\\left(x^2 \\cos 2x  \\right)' =\n",
    "$"
   ]
  },
  {
   "cell_type": "markdown",
   "metadata": {},
   "source": [
    "$=\\cfrac{3}{2} \\left(x' \\sin 2x + x (2\\cos 2x) \\right) + \\cfrac{3}{2} \\left(- \\frac{2}{2} \\sin 2x \\right) - \n",
    "\\cfrac{3}{2} \\left((x^2)' \\cos 2x + x^2 (\\cos 2x)' \\right) =\n",
    "$"
   ]
  },
  {
   "cell_type": "markdown",
   "metadata": {},
   "source": [
    "$=\\cfrac{3}{2} \\sin 2x + 3 x\\cos 2x - \\cfrac{3}{2} \\sin 2x - \\cfrac{3}{2} 2x \\cos 2x + 3x^2 \\sin 2x\n",
    "$"
   ]
  },
  {
   "cell_type": "markdown",
   "metadata": {},
   "source": [
    "$= 3x^2 \\sin 2x$"
   ]
  },
  {
   "cell_type": "markdown",
   "metadata": {},
   "source": [
    "## Задание 4"
   ]
  },
  {
   "cell_type": "markdown",
   "metadata": {},
   "source": [
    "### Найти неопределенный интеграл\n"
   ]
  },
  {
   "cell_type": "markdown",
   "metadata": {},
   "source": [
    "$\\int \\cfrac{1}{\\sqrt{x+1}} d x$"
   ]
  },
  {
   "cell_type": "markdown",
   "metadata": {},
   "source": [
    "Применим метод замены переменной:"
   ]
  },
  {
   "cell_type": "markdown",
   "metadata": {},
   "source": [
    "$\\sqrt{x+1} = t$"
   ]
  },
  {
   "cell_type": "markdown",
   "metadata": {},
   "source": [
    "$x = t^2 - 1$"
   ]
  },
  {
   "cell_type": "markdown",
   "metadata": {},
   "source": [
    "$dx = d(t^2 - 1) = 2t \\cdot dt$"
   ]
  },
  {
   "cell_type": "markdown",
   "metadata": {},
   "source": [
    "$\\int \\cfrac{1}{\\sqrt{x+1}} \\left. dx \\right |_{\\sqrt{x + 1} = t} =\n",
    "\\int \\cfrac{1}{t} \\cdot (t)' \\cdot 2tdt =\n",
    "\\int 2dt = 2t + \\left. C \\right |_{t = \\sqrt{x + 1}} =\n",
    "2\\sqrt{x + 1} + C\n",
    "$"
   ]
  },
  {
   "cell_type": "markdown",
   "metadata": {},
   "source": [
    "Сделаем проверку:"
   ]
  },
  {
   "cell_type": "markdown",
   "metadata": {},
   "source": [
    "$(2\\sqrt{x + 1} + C)'=$"
   ]
  },
  {
   "cell_type": "markdown",
   "metadata": {},
   "source": [
    "$=2 \\cfrac{1}{2\\sqrt(x + 1)}(x + 1)' =\n",
    "$"
   ]
  },
  {
   "cell_type": "markdown",
   "metadata": {},
   "source": [
    "$= \\cfrac{1}{\\sqrt(x + 1)}$"
   ]
  },
  {
   "cell_type": "markdown",
   "metadata": {},
   "source": [
    "## Задание 5"
   ]
  },
  {
   "cell_type": "markdown",
   "metadata": {},
   "source": [
    "### Классифицировать ДУ и найти его решение:"
   ]
  },
  {
   "cell_type": "markdown",
   "metadata": {},
   "source": [
    "$\\left(4 x^{2}+\\frac{1}{2} y^{2}-6 y\\right) d x+\\left(2 y^{3}+x y-6 x\\right) d y=0$"
   ]
  },
  {
   "cell_type": "markdown",
   "metadata": {},
   "source": [
    "$\\left(4 x^{2}+\\frac{1}{2} y^{2}-6 y\\right)'_y = y - 6$   \n",
    "$\\left(2 y^{3}+x y-6 x\\right)'_x = y - 6$"
   ]
  },
  {
   "cell_type": "markdown",
   "metadata": {},
   "source": [
    "Обыкновенное ДУ первого порядка в полных дифференциалах"
   ]
  },
  {
   "cell_type": "markdown",
   "metadata": {},
   "source": [
    "$\\cfrac{dF(x, y)}{dx} = 4x^2 + \\cfrac{1}{2}y^2 - 6y\n",
    "$"
   ]
  },
  {
   "cell_type": "markdown",
   "metadata": {},
   "source": [
    "$\\int \\cfrac{dF(x, y)}{dx} dx = \\int (4x^2 + \\cfrac{1}{2}y^2 - 6y)dx\n",
    "$"
   ]
  },
  {
   "cell_type": "markdown",
   "metadata": {},
   "source": [
    "$F(x, y) = 4\\int x^2 dx + \\cfrac{1}{2}y^2 \\int dx - 6y \\int dx$"
   ]
  },
  {
   "cell_type": "markdown",
   "metadata": {},
   "source": [
    "$F(x, y) = \\cfrac{4}{3}x^3 + \\cfrac{1}{2}xy^2 - 6xy + \\phi (y)$"
   ]
  },
  {
   "cell_type": "markdown",
   "metadata": {},
   "source": [
    "$\\cfrac{dF(x, y)}{dy} = \\left(\\cfrac{4}{3}x^3 + \\cfrac{1}{2}xy^2 - 6xy + \\phi (y) \\right)'_y$"
   ]
  },
  {
   "cell_type": "markdown",
   "metadata": {},
   "source": [
    "$\\cfrac{dF(x, y)}{dy} = 2xy -6x + \\phi ' (y)$"
   ]
  },
  {
   "cell_type": "markdown",
   "metadata": {},
   "source": [
    "$2xy - 6x + \\phi '(y) = 2y^3 + xy - 6x\n",
    "$"
   ]
  },
  {
   "cell_type": "markdown",
   "metadata": {},
   "source": [
    "$\\phi '(y) = 2y^3 - xy\n",
    "$"
   ]
  },
  {
   "cell_type": "markdown",
   "metadata": {},
   "source": [
    "$\\int \\phi '(y) dy = \\int (2y^3 - xy)dy\n",
    "$"
   ]
  },
  {
   "cell_type": "markdown",
   "metadata": {},
   "source": [
    "$\\phi (y)dy = \\cfrac{2}{4}y^4 - \\cfrac{1}{2}xy^2 + C$"
   ]
  },
  {
   "cell_type": "markdown",
   "metadata": {},
   "source": [
    "$F(x, y) = 2xy -6x + \\cfrac{1}{2}y^4 - \\cfrac{1}{2}xy^2 + C$"
   ]
  },
  {
   "cell_type": "markdown",
   "metadata": {},
   "source": [
    "## Задание 6"
   ]
  },
  {
   "cell_type": "markdown",
   "metadata": {},
   "source": [
    "### Классифицировать ДУ и найти его решение:"
   ]
  },
  {
   "cell_type": "markdown",
   "metadata": {},
   "source": [
    "$y^{\\prime}+y=x^{2} y^{3}$"
   ]
  },
  {
   "cell_type": "markdown",
   "metadata": {},
   "source": [
    "ДУ Бернулли"
   ]
  },
  {
   "cell_type": "markdown",
   "metadata": {},
   "source": [
    "Уравнение имеет решение y = 0"
   ]
  },
  {
   "cell_type": "markdown",
   "metadata": {},
   "source": [
    "Нужно привести его к линейному неоднородному уравнению"
   ]
  },
  {
   "cell_type": "markdown",
   "metadata": {},
   "source": [
    "Разделим обе части уравнения на $y^3$"
   ]
  },
  {
   "cell_type": "markdown",
   "metadata": {},
   "source": [
    "$\\cfrac{y'}{y^3} + \\cfrac{1}{y^2} = x^2\n",
    "$"
   ]
  },
  {
   "cell_type": "markdown",
   "metadata": {},
   "source": [
    "$z = \\cfrac{1}{y^2}\n",
    "$"
   ]
  },
  {
   "cell_type": "markdown",
   "metadata": {},
   "source": [
    "$z' = (\\cfrac{1}{y^2})' = \\cfrac{-2}{y^{3}}(y)' = -\\cfrac{2y'}{y^3}\n",
    "$"
   ]
  },
  {
   "cell_type": "markdown",
   "metadata": {},
   "source": [
    "Производим замены"
   ]
  },
  {
   "cell_type": "markdown",
   "metadata": {},
   "source": [
    "$-\\cfrac{1}{2}z' + z = x^2\n",
    "$"
   ]
  },
  {
   "cell_type": "markdown",
   "metadata": {},
   "source": [
    "$z' - 2z = -2x^2\n",
    "$"
   ]
  },
  {
   "cell_type": "markdown",
   "metadata": {},
   "source": [
    "Получили линейное неоднородное уравнение, опять производим замены"
   ]
  },
  {
   "cell_type": "markdown",
   "metadata": {},
   "source": [
    "$uv = z\n",
    "$"
   ]
  },
  {
   "cell_type": "markdown",
   "metadata": {},
   "source": [
    "$z' = u'v + u v'\n",
    "$"
   ]
  },
  {
   "cell_type": "markdown",
   "metadata": {},
   "source": [
    "$u'v + uv' - 2uv = -2x^2\n",
    "$"
   ]
  },
  {
   "cell_type": "markdown",
   "metadata": {},
   "source": [
    "$u'v + u(v' - 2v) = -2x^2\n",
    "$"
   ]
  },
  {
   "cell_type": "markdown",
   "metadata": {},
   "source": [
    "Составим систему уравнений, приравняв выражение в скобках к нулю"
   ]
  },
  {
   "cell_type": "markdown",
   "metadata": {},
   "source": [
    "$\\left\\{\\begin{array}{l}{v'- 2v = 0} \\\\ {u' v = -2x^2}\\end{array}\\right.$"
   ]
  },
  {
   "cell_type": "markdown",
   "metadata": {},
   "source": [
    "Из первого уравнения находим:"
   ]
  },
  {
   "cell_type": "markdown",
   "metadata": {},
   "source": [
    "$v' = 2v\n",
    "$"
   ]
  },
  {
   "cell_type": "markdown",
   "metadata": {},
   "source": [
    "$\\cfrac{dv}{dx} = 2v\n",
    "$"
   ]
  },
  {
   "cell_type": "markdown",
   "metadata": {},
   "source": [
    "$\\cfrac{dv}{v} = 2dx\n",
    "$"
   ]
  },
  {
   "cell_type": "markdown",
   "metadata": {},
   "source": [
    "$\\int \\cfrac{dv}{v} = \\int 2dx\n",
    "$"
   ]
  },
  {
   "cell_type": "markdown",
   "metadata": {},
   "source": [
    "$\\ln |v| = 2x\n",
    "$"
   ]
  },
  {
   "cell_type": "markdown",
   "metadata": {},
   "source": [
    "$v = e^{2x}\n",
    "$"
   ]
  },
  {
   "cell_type": "markdown",
   "metadata": {},
   "source": [
    "Подставляем значение $v$ во второе уравнение:"
   ]
  },
  {
   "cell_type": "markdown",
   "metadata": {},
   "source": [
    "$u' e^{2x} = -2x^2\n",
    "$"
   ]
  },
  {
   "cell_type": "markdown",
   "metadata": {},
   "source": [
    "$\\cfrac{du}{dx} = -2x^2 \\cdot e^{-2x}\n",
    "$"
   ]
  },
  {
   "cell_type": "markdown",
   "metadata": {},
   "source": [
    "$du = -2x^2 \\cdot e^{-2x} dx\n",
    "$"
   ]
  },
  {
   "cell_type": "markdown",
   "metadata": {},
   "source": [
    "$\\int du = \\int -2x^2 e^{-2x} dx\n",
    "$"
   ]
  },
  {
   "cell_type": "markdown",
   "metadata": {},
   "source": [
    "$u = \\int -2x^2 e^{-2x} dx\n",
    "$"
   ]
  },
  {
   "cell_type": "markdown",
   "metadata": {},
   "source": [
    "$u = \\cfrac{-2}{-2} \\int x^2 e^{-2x} d(-2x)\n",
    "$"
   ]
  },
  {
   "cell_type": "markdown",
   "metadata": {},
   "source": [
    "$u = \\int x^2 d e^{-2x}\n",
    "$"
   ]
  },
  {
   "cell_type": "markdown",
   "metadata": {},
   "source": [
    "$u = x^2 e^{-2x} - \\int e^{-2x}dx^2 \n",
    "$"
   ]
  },
  {
   "cell_type": "markdown",
   "metadata": {},
   "source": [
    "$u = x^2 e^{-2x} - \\int 2x e^{-2x}dx\n",
    "$"
   ]
  },
  {
   "cell_type": "markdown",
   "metadata": {},
   "source": [
    "$u = x^2 e^{-2x} - \\cfrac{2}{-2}\\int x e^{-2x}d(-2x)\n",
    "$"
   ]
  },
  {
   "cell_type": "markdown",
   "metadata": {},
   "source": [
    "$u = x^2 e^{-2x} + \\int x de^{-2x}\n",
    "$"
   ]
  },
  {
   "cell_type": "markdown",
   "metadata": {},
   "source": [
    "$u = x^2 e^{-2x} + x e^{-2x} - \\int e^{-2x}dx\n",
    "$"
   ]
  },
  {
   "cell_type": "markdown",
   "metadata": {},
   "source": [
    "$u = x^2 e^{-2x} + x e^{-2x} - e^{-2x} + C\n",
    "$"
   ]
  },
  {
   "cell_type": "markdown",
   "metadata": {},
   "source": [
    "Теперь находим z"
   ]
  },
  {
   "cell_type": "markdown",
   "metadata": {},
   "source": [
    "$z = uv = (x^2 e^{-2x} + x e^{-2x} - e^{-2x} + C) e^{2x}\n",
    "$"
   ]
  },
  {
   "cell_type": "markdown",
   "metadata": {},
   "source": [
    "$z = x^2 + x - 1 + Ce^{2x}\n",
    "$"
   ]
  },
  {
   "cell_type": "markdown",
   "metadata": {},
   "source": [
    "Подставляем значения z"
   ]
  },
  {
   "cell_type": "markdown",
   "metadata": {},
   "source": [
    "$y = \\cfrac{1}{\\sqrt z}\n",
    "$"
   ]
  },
  {
   "cell_type": "markdown",
   "metadata": {},
   "source": [
    "$F(x) = \\cfrac{1}{\\sqrt{x^2 + x - 1 + Ce^{2x}}}\n",
    "$"
   ]
  },
  {
   "cell_type": "code",
   "execution_count": null,
   "metadata": {},
   "outputs": [],
   "source": []
  }
 ],
 "metadata": {
  "kernelspec": {
   "display_name": "Python 3",
   "language": "python",
   "name": "python3"
  },
  "language_info": {
   "codemirror_mode": {
    "name": "ipython",
    "version": 3
   },
   "file_extension": ".py",
   "mimetype": "text/x-python",
   "name": "python",
   "nbconvert_exporter": "python",
   "pygments_lexer": "ipython3",
   "version": "3.7.1"
  }
 },
 "nbformat": 4,
 "nbformat_minor": 2
}
