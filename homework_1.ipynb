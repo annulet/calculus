{
 "cells": [
  {
   "cell_type": "markdown",
   "metadata": {},
   "source": [
    "# Тема 1"
   ]
  },
  {
   "cell_type": "markdown",
   "metadata": {},
   "source": [
    "## Как относятся друг к другу множество и последовательность?    \n",
    "(в ответе использовать слова типа: часть, целое, общее, частное, родитель, дочерний субъект и т.д.)"
   ]
  },
  {
   "cell_type": "markdown",
   "metadata": {},
   "source": [
    "Поскольку последовательность - это набор элементов множества, в котором каждому натуральному числу соответствует элемент последовательности, то множество - это целое, а последовательность - его часть. Множество и последовательность относятся друг к другу, как общее и частное или множество - родитель, а последовательность - дочерний субъект.\n"
   ]
  },
  {
   "cell_type": "markdown",
   "metadata": {},
   "source": [
    "## Задание 1"
   ]
  },
  {
   "cell_type": "markdown",
   "metadata": {},
   "source": [
    "### Прочитать высказывания математической логики, построить их отрицания и *установить истинность.\n"
   ]
  },
  {
   "cell_type": "markdown",
   "metadata": {},
   "source": [
    "### 1"
   ]
  },
  {
   "cell_type": "markdown",
   "metadata": {},
   "source": [
    "$\\forall y \\in [0;1] : sgn(y) = 1$"
   ]
  },
  {
   "cell_type": "markdown",
   "metadata": {},
   "source": [
    "Для любого y от нуля до единицы включительно справедливо высказывание, что функция знака от y равна единице."
   ]
  },
  {
   "cell_type": "markdown",
   "metadata": {},
   "source": [
    "Отрицание:"
   ]
  },
  {
   "cell_type": "markdown",
   "metadata": {},
   "source": [
    "$\\exists y \\in [0;1] : sgn(y) \\neq 1$"
   ]
  },
  {
   "cell_type": "markdown",
   "metadata": {},
   "source": [
    "Существуют такие y от нуля до единицы включительно, что функция знака от y не равна единице."
   ]
  },
  {
   "cell_type": "markdown",
   "metadata": {},
   "source": [
    "Первое высказывание ложно, поскольку при y = 0 значение функции не будет равно 1.   \n",
    "Второе высказывание истинно, существует y = 0, которому соответсвует значение функции 0."
   ]
  },
  {
   "cell_type": "markdown",
   "metadata": {},
   "source": [
    "$\\operatorname{sgn} (x)=\\left\\{\\begin{array}{cl}{1,} & {x>0} \\\\ {0,} & {x=0} \\\\ {-1,} & {x<0}\\end{array}\\right.$"
   ]
  },
  {
   "cell_type": "markdown",
   "metadata": {},
   "source": [
    "### 2"
   ]
  },
  {
   "cell_type": "markdown",
   "metadata": {},
   "source": [
    "$\\forall n \\in \\mathbb{N} > 2 : \\exists x, y, z \\in \\mathbb{N} : x^n = y^n + z^n$"
   ]
  },
  {
   "cell_type": "markdown",
   "metadata": {},
   "source": [
    "Для любого натурального, большего двух n существуют такие натуральные x, y и z, что x в степени n равен сумме y в степени n и z в степени n.   "
   ]
  },
  {
   "cell_type": "markdown",
   "metadata": {},
   "source": [
    "Отрицание:"
   ]
  },
  {
   "cell_type": "markdown",
   "metadata": {},
   "source": [
    "$\\exists n \\in \\mathbb{N} \\leq 2 : \\forall x, y, z \\in \\mathbb{N} : x^n \\neq y^n + z^n$"
   ]
  },
  {
   "cell_type": "markdown",
   "metadata": {},
   "source": [
    "Существуют такие натуральные, не большие 2 n, что для любых натуральных x, y и z справедливо $x^n \\neq y^n + z^n$"
   ]
  },
  {
   "cell_type": "markdown",
   "metadata": {},
   "source": [
    "Первое высказывание - это теорема Ферма, в которой говорится, что нет таких натуральных x, y, z, для которых справедливо равенство $x^n = y^n + z^n$ при n > 2. Уравнение имеет единственное тривиальное решение.   \n",
    "Как известно, теорема Ферма доказана, так что первое высказывание ложно.   \n",
    "Второе высказывание тоже ложно, так как:   \n",
    "при n = 2 высказывание $x^n = y^n + z^n$ известно как теорема Пифагора и имеет бесконечное множество решений.   \n",
    "А при n = 1 $x \\neq y + z$ тоже не может быть истинным при любых значениях переменных."
   ]
  },
  {
   "cell_type": "markdown",
   "metadata": {},
   "source": [
    "### 3"
   ]
  },
  {
   "cell_type": "markdown",
   "metadata": {},
   "source": [
    "$\\forall x \\in \\mathbb{R} \\exists X \\in \\mathbb{R} : X > x$"
   ]
  },
  {
   "cell_type": "markdown",
   "metadata": {},
   "source": [
    "Для всякого вещественного х существует такое вещественное Х, что Х > x."
   ]
  },
  {
   "cell_type": "markdown",
   "metadata": {},
   "source": [
    "Отрицание:"
   ]
  },
  {
   "cell_type": "markdown",
   "metadata": {},
   "source": [
    "$\\exists x \\in \\mathbb{R} \\forall X \\in \\mathbb{R} : X \\leq x$"
   ]
  },
  {
   "cell_type": "markdown",
   "metadata": {},
   "source": [
    "Существуют такие вещественные х, что для всех вещественных Х справедливо, что Х не больше х."
   ]
  },
  {
   "cell_type": "markdown",
   "metadata": {},
   "source": [
    "Оба утверждения истинны"
   ]
  },
  {
   "cell_type": "markdown",
   "metadata": {},
   "source": [
    "### 4"
   ]
  },
  {
   "cell_type": "markdown",
   "metadata": {},
   "source": [
    "$\\forall x \\in \\mathbb{C} \\nexists y \\in \\mathbb{C} : x > y \\| x < y$"
   ]
  },
  {
   "cell_type": "markdown",
   "metadata": {},
   "source": [
    "Каково бы ни было комплексное х, не существует такого комплексного y, что х больше y или х меньше y."
   ]
  },
  {
   "cell_type": "markdown",
   "metadata": {},
   "source": [
    "Отрицание:"
   ]
  },
  {
   "cell_type": "markdown",
   "metadata": {},
   "source": [
    "$\\exists x \\in \\mathbb{C} \\exists y \\in \\mathbb{C} : x \\leq y,  x \\geq y$"
   ]
  },
  {
   "cell_type": "markdown",
   "metadata": {},
   "source": [
    "Существуют такие комплексные x и y, что x одновременно не больше и не меньше y."
   ]
  },
  {
   "cell_type": "markdown",
   "metadata": {},
   "source": [
    "Оба высказывания истинны, так как нельзя указать, какое из двух комплексных чисел больше или меньше"
   ]
  },
  {
   "cell_type": "markdown",
   "metadata": {},
   "source": [
    "### 5"
   ]
  },
  {
   "cell_type": "markdown",
   "metadata": {},
   "source": [
    "$\\forall y \\in [0; \\frac{\\pi}{2}] \\exists \\varepsilon > 0 : \\sin y < \\sin (y + \\varepsilon)$"
   ]
  },
  {
   "cell_type": "markdown",
   "metadata": {},
   "source": [
    "Для любого y от нуля до пи пополам включительно существуют такие положительные $\\varepsilon$, что $\\sin y$ меньше $\\sin (y + \\varepsilon)$ "
   ]
  },
  {
   "cell_type": "markdown",
   "metadata": {},
   "source": [
    "Отрицание:"
   ]
  },
  {
   "cell_type": "markdown",
   "metadata": {},
   "source": [
    "$\\exists y \\in [0; \\frac{\\pi}{2}] \\forall \\varepsilon > 0 : \\sin y \\geq \\sin (y + \\varepsilon)$"
   ]
  },
  {
   "cell_type": "markdown",
   "metadata": {},
   "source": [
    "Существуют такие y от нуля до пи пополам включительно, что для любого положительного $\\varepsilon$, верно неравенство $\\sin y$ не меньше $\\sin (y + \\varepsilon)$ "
   ]
  },
  {
   "cell_type": "markdown",
   "metadata": {},
   "source": [
    "Функция $\\sin y$ возрастает на промежутке от 0 до пи пополам, но в точке пи пополам достигает максимума, поэтому нет такого  положительного $\\varepsilon$, что $\\sin \\frac{\\pi}{2}$ меньше $\\sin (\\frac{\\pi}{2} + \\varepsilon)$, первое высказывание ложно.   \n",
    "Поскольку функция $\\sin y$ возрастает на промежутке $[0; \\frac{\\pi}{2}]$, то  $\\sin y$ не может быть не меньше $\\sin (y + \\varepsilon)$, второе высказывание ложно.\n"
   ]
  },
  {
   "cell_type": "markdown",
   "metadata": {},
   "source": [
    "### 6"
   ]
  },
  {
   "cell_type": "markdown",
   "metadata": {},
   "source": [
    "$\\forall y \\in [0; \\pi) \\exists \\varepsilon > 0 : \\cos y > \\cos (y + \\varepsilon)$"
   ]
  },
  {
   "cell_type": "markdown",
   "metadata": {},
   "source": [
    "Для любого y от нуля включительно до пи не включительно существуют такие положительные $\\varepsilon$, что $\\cos y$ больше $\\cos (y + \\varepsilon)$ "
   ]
  },
  {
   "cell_type": "markdown",
   "metadata": {},
   "source": [
    "Отрицание:"
   ]
  },
  {
   "cell_type": "markdown",
   "metadata": {},
   "source": [
    "$\\exists y \\in [0; \\pi) \\forall \\varepsilon > 0 : \\cos y \\leq \\cos (y + \\varepsilon)$"
   ]
  },
  {
   "cell_type": "markdown",
   "metadata": {},
   "source": [
    "Существуют такие y от нуля включительно до пи не включительно, что для любого положительного $\\varepsilon$, верно неравенство $\\cos y$ не больше $\\cos (y + \\varepsilon)$ "
   ]
  },
  {
   "cell_type": "markdown",
   "metadata": {},
   "source": [
    "Функция $\\cos y$ убывает на промежутке от 0 до пи, поэтому существует такое  положительное $\\varepsilon$, что $\\cos \\frac{\\pi}{2}$ больше $\\cos (\\frac{\\pi}{2} + \\varepsilon)$, первое высказывание истинно.   \n",
    "Поскольку функция $\\cos y$ убывает на промежутке $[0; \\pi)$, то  $\\cos y$ больше $\\sin (y + \\varepsilon)$, второе высказывание ложно.\n"
   ]
  },
  {
   "cell_type": "markdown",
   "metadata": {},
   "source": [
    "### 7"
   ]
  },
  {
   "cell_type": "markdown",
   "metadata": {},
   "source": [
    "$\\exists x : x \\notin \\big\\{ \\mathbb{N}, \\mathbb{Z}, \\mathbb{Q}, \\mathbb{R}, \\mathbb{C}\\big\\}$"
   ]
  },
  {
   "cell_type": "markdown",
   "metadata": {},
   "source": [
    "Существуют такие х, что они не являются натуральными, целыми, рациональными, вещественными и комплексными."
   ]
  },
  {
   "cell_type": "markdown",
   "metadata": {},
   "source": [
    "Отрицание:"
   ]
  },
  {
   "cell_type": "markdown",
   "metadata": {},
   "source": [
    "$\\forall x : x \\in \\big\\{ \\mathbb{N} \\| \\mathbb{Z} \\| \\mathbb{Q} \\| \\mathbb{R} \\| \\mathbb{C}\\big\\}$"
   ]
  },
  {
   "cell_type": "markdown",
   "metadata": {},
   "source": [
    "Любой х является либо натуральным, либо целым, либо рациональным, либо вещественным, либо комплексным."
   ]
  },
  {
   "cell_type": "markdown",
   "metadata": {},
   "source": [
    "Первое высказывание ложно, поскольку число должно входить хотя бы в одно из этих множеств.   \n",
    "Второе высказывание истинно, потому что неисключающее или позволяет числу быть сразу и натуральным и целым, например."
   ]
  },
  {
   "cell_type": "markdown",
   "metadata": {},
   "source": [
    "# Тема 2"
   ]
  },
  {
   "cell_type": "markdown",
   "metadata": {},
   "source": [
    "## Задание 2"
   ]
  },
  {
   "cell_type": "markdown",
   "metadata": {},
   "source": [
    "### Даны три множества a, b и с. Необходимо выполнить все изученные виды бинарных операций над всеми комбинациями множеств."
   ]
  },
  {
   "cell_type": "code",
   "execution_count": 1,
   "metadata": {},
   "outputs": [],
   "source": [
    "a = {1, 3, 5, 7, 9, 11, 13, 15}\n",
    "type(a)"
   ]
  },
  {
   "cell_type": "code",
   "execution_count": 2,
   "metadata": {},
   "outputs": [
    {
     "data": {
      "text/plain": [
       "set"
      ]
     },
     "execution_count": 2,
     "metadata": {},
     "output_type": "execute_result"
    }
   ],
   "source": [
    "b = {2, 4, 6, 8, 10, 12, 14, 16, 18}\n",
    "type(b)"
   ]
  },
  {
   "cell_type": "code",
   "execution_count": 3,
   "metadata": {},
   "outputs": [
    {
     "data": {
      "text/plain": [
       "set"
      ]
     },
     "execution_count": 3,
     "metadata": {},
     "output_type": "execute_result"
    }
   ],
   "source": [
    "c = {1, 2, 3, 5, 8, 13, 21, 34}\n",
    "type(c)"
   ]
  },
  {
   "cell_type": "markdown",
   "metadata": {},
   "source": [
    "#### Пересечение"
   ]
  },
  {
   "cell_type": "code",
   "execution_count": 4,
   "metadata": {},
   "outputs": [
    {
     "data": {
      "text/plain": [
       "set()"
      ]
     },
     "execution_count": 4,
     "metadata": {},
     "output_type": "execute_result"
    }
   ],
   "source": [
    "a.intersection(b)"
   ]
  },
  {
   "cell_type": "code",
   "execution_count": 5,
   "metadata": {},
   "outputs": [
    {
     "data": {
      "text/plain": [
       "set()"
      ]
     },
     "execution_count": 5,
     "metadata": {},
     "output_type": "execute_result"
    }
   ],
   "source": [
    "a & b"
   ]
  },
  {
   "cell_type": "code",
   "execution_count": 6,
   "metadata": {},
   "outputs": [
    {
     "data": {
      "text/plain": [
       "{1, 3, 5, 13}"
      ]
     },
     "execution_count": 6,
     "metadata": {},
     "output_type": "execute_result"
    }
   ],
   "source": [
    "a.intersection(c)"
   ]
  },
  {
   "cell_type": "code",
   "execution_count": 7,
   "metadata": {},
   "outputs": [
    {
     "data": {
      "text/plain": [
       "{1, 3, 5, 13}"
      ]
     },
     "execution_count": 7,
     "metadata": {},
     "output_type": "execute_result"
    }
   ],
   "source": [
    "a & c"
   ]
  },
  {
   "cell_type": "code",
   "execution_count": 8,
   "metadata": {},
   "outputs": [
    {
     "data": {
      "text/plain": [
       "{2, 8}"
      ]
     },
     "execution_count": 8,
     "metadata": {},
     "output_type": "execute_result"
    }
   ],
   "source": [
    "c.intersection(b)"
   ]
  },
  {
   "cell_type": "code",
   "execution_count": 9,
   "metadata": {},
   "outputs": [
    {
     "data": {
      "text/plain": [
       "{2, 8}"
      ]
     },
     "execution_count": 9,
     "metadata": {},
     "output_type": "execute_result"
    }
   ],
   "source": [
    "c & b"
   ]
  },
  {
   "cell_type": "code",
   "execution_count": 10,
   "metadata": {},
   "outputs": [
    {
     "data": {
      "text/plain": [
       "set()"
      ]
     },
     "execution_count": 10,
     "metadata": {},
     "output_type": "execute_result"
    }
   ],
   "source": [
    "a.intersection(b, c)"
   ]
  },
  {
   "cell_type": "code",
   "execution_count": 11,
   "metadata": {},
   "outputs": [
    {
     "data": {
      "text/plain": [
       "set()"
      ]
     },
     "execution_count": 11,
     "metadata": {},
     "output_type": "execute_result"
    }
   ],
   "source": [
    "a & b & c"
   ]
  },
  {
   "cell_type": "markdown",
   "metadata": {},
   "source": [
    "#### Объединение"
   ]
  },
  {
   "cell_type": "code",
   "execution_count": 12,
   "metadata": {},
   "outputs": [
    {
     "data": {
      "text/plain": [
       "{1, 2, 3, 4, 5, 6, 7, 8, 9, 10, 11, 12, 13, 14, 15, 16, 18}"
      ]
     },
     "execution_count": 12,
     "metadata": {},
     "output_type": "execute_result"
    }
   ],
   "source": [
    "a.union(b)"
   ]
  },
  {
   "cell_type": "code",
   "execution_count": 13,
   "metadata": {},
   "outputs": [
    {
     "data": {
      "text/plain": [
       "{1, 2, 3, 4, 5, 6, 7, 8, 9, 10, 11, 12, 13, 14, 15, 16, 18}"
      ]
     },
     "execution_count": 13,
     "metadata": {},
     "output_type": "execute_result"
    }
   ],
   "source": [
    "a | b"
   ]
  },
  {
   "cell_type": "code",
   "execution_count": 14,
   "metadata": {},
   "outputs": [
    {
     "data": {
      "text/plain": [
       "{1, 2, 3, 4, 5, 6, 8, 10, 12, 13, 14, 16, 18, 21, 34}"
      ]
     },
     "execution_count": 14,
     "metadata": {},
     "output_type": "execute_result"
    }
   ],
   "source": [
    "b.union(c)"
   ]
  },
  {
   "cell_type": "code",
   "execution_count": 15,
   "metadata": {},
   "outputs": [
    {
     "data": {
      "text/plain": [
       "{1, 2, 3, 4, 5, 6, 8, 10, 12, 13, 14, 16, 18, 21, 34}"
      ]
     },
     "execution_count": 15,
     "metadata": {},
     "output_type": "execute_result"
    }
   ],
   "source": [
    "b | c"
   ]
  },
  {
   "cell_type": "code",
   "execution_count": 16,
   "metadata": {},
   "outputs": [
    {
     "data": {
      "text/plain": [
       "{1, 2, 3, 5, 7, 8, 9, 11, 13, 15, 21, 34}"
      ]
     },
     "execution_count": 16,
     "metadata": {},
     "output_type": "execute_result"
    }
   ],
   "source": [
    "c.union(a)"
   ]
  },
  {
   "cell_type": "code",
   "execution_count": 17,
   "metadata": {},
   "outputs": [
    {
     "data": {
      "text/plain": [
       "{1, 2, 3, 5, 7, 8, 9, 11, 13, 15, 21, 34}"
      ]
     },
     "execution_count": 17,
     "metadata": {},
     "output_type": "execute_result"
    }
   ],
   "source": [
    "c | a"
   ]
  },
  {
   "cell_type": "code",
   "execution_count": 18,
   "metadata": {},
   "outputs": [
    {
     "data": {
      "text/plain": [
       "{1, 2, 3, 4, 5, 6, 7, 8, 9, 10, 11, 12, 13, 14, 15, 16, 18, 21, 34}"
      ]
     },
     "execution_count": 18,
     "metadata": {},
     "output_type": "execute_result"
    }
   ],
   "source": [
    "a.union(b, c)"
   ]
  },
  {
   "cell_type": "code",
   "execution_count": 19,
   "metadata": {},
   "outputs": [
    {
     "data": {
      "text/plain": [
       "{1, 2, 3, 4, 5, 6, 7, 8, 9, 10, 11, 12, 13, 14, 15, 16, 18, 21, 34}"
      ]
     },
     "execution_count": 19,
     "metadata": {},
     "output_type": "execute_result"
    }
   ],
   "source": [
    "a | b | c"
   ]
  },
  {
   "cell_type": "markdown",
   "metadata": {},
   "source": [
    "#### Разность"
   ]
  },
  {
   "cell_type": "code",
   "execution_count": 20,
   "metadata": {},
   "outputs": [
    {
     "data": {
      "text/plain": [
       "{1, 3, 5, 7, 9, 11, 13, 15}"
      ]
     },
     "execution_count": 20,
     "metadata": {},
     "output_type": "execute_result"
    }
   ],
   "source": [
    "a.difference(b)"
   ]
  },
  {
   "cell_type": "code",
   "execution_count": 21,
   "metadata": {},
   "outputs": [
    {
     "data": {
      "text/plain": [
       "{1, 3, 5, 7, 9, 11, 13, 15}"
      ]
     },
     "execution_count": 21,
     "metadata": {},
     "output_type": "execute_result"
    }
   ],
   "source": [
    "a - b"
   ]
  },
  {
   "cell_type": "code",
   "execution_count": 22,
   "metadata": {},
   "outputs": [
    {
     "data": {
      "text/plain": [
       "{2, 4, 6, 8, 10, 12, 14, 16, 18}"
      ]
     },
     "execution_count": 22,
     "metadata": {},
     "output_type": "execute_result"
    }
   ],
   "source": [
    "b.difference(a)"
   ]
  },
  {
   "cell_type": "code",
   "execution_count": 23,
   "metadata": {},
   "outputs": [
    {
     "data": {
      "text/plain": [
       "{2, 4, 6, 8, 10, 12, 14, 16, 18}"
      ]
     },
     "execution_count": 23,
     "metadata": {},
     "output_type": "execute_result"
    }
   ],
   "source": [
    "b - a"
   ]
  },
  {
   "cell_type": "code",
   "execution_count": 24,
   "metadata": {},
   "outputs": [
    {
     "data": {
      "text/plain": [
       "{4, 6, 10, 12, 14, 16, 18}"
      ]
     },
     "execution_count": 24,
     "metadata": {},
     "output_type": "execute_result"
    }
   ],
   "source": [
    "b.difference(c)"
   ]
  },
  {
   "cell_type": "code",
   "execution_count": 25,
   "metadata": {},
   "outputs": [
    {
     "data": {
      "text/plain": [
       "{4, 6, 10, 12, 14, 16, 18}"
      ]
     },
     "execution_count": 25,
     "metadata": {},
     "output_type": "execute_result"
    }
   ],
   "source": [
    "b - c"
   ]
  },
  {
   "cell_type": "code",
   "execution_count": 26,
   "metadata": {},
   "outputs": [
    {
     "data": {
      "text/plain": [
       "{1, 3, 5, 13, 21, 34}"
      ]
     },
     "execution_count": 26,
     "metadata": {},
     "output_type": "execute_result"
    }
   ],
   "source": [
    "c.difference(b)"
   ]
  },
  {
   "cell_type": "code",
   "execution_count": 27,
   "metadata": {},
   "outputs": [
    {
     "data": {
      "text/plain": [
       "{1, 3, 5, 13, 21, 34}"
      ]
     },
     "execution_count": 27,
     "metadata": {},
     "output_type": "execute_result"
    }
   ],
   "source": [
    "c - b"
   ]
  },
  {
   "cell_type": "code",
   "execution_count": 28,
   "metadata": {},
   "outputs": [
    {
     "data": {
      "text/plain": [
       "{2, 8, 21, 34}"
      ]
     },
     "execution_count": 28,
     "metadata": {},
     "output_type": "execute_result"
    }
   ],
   "source": [
    "c.difference(a)"
   ]
  },
  {
   "cell_type": "code",
   "execution_count": 29,
   "metadata": {},
   "outputs": [
    {
     "data": {
      "text/plain": [
       "{2, 8, 21, 34}"
      ]
     },
     "execution_count": 29,
     "metadata": {},
     "output_type": "execute_result"
    }
   ],
   "source": [
    "c - a"
   ]
  },
  {
   "cell_type": "code",
   "execution_count": 30,
   "metadata": {},
   "outputs": [
    {
     "data": {
      "text/plain": [
       "{7, 9, 11, 15}"
      ]
     },
     "execution_count": 30,
     "metadata": {},
     "output_type": "execute_result"
    }
   ],
   "source": [
    "a.difference(c)"
   ]
  },
  {
   "cell_type": "code",
   "execution_count": 31,
   "metadata": {},
   "outputs": [
    {
     "data": {
      "text/plain": [
       "{7, 9, 11, 15}"
      ]
     },
     "execution_count": 31,
     "metadata": {},
     "output_type": "execute_result"
    }
   ],
   "source": [
    "a - c "
   ]
  },
  {
   "cell_type": "code",
   "execution_count": 32,
   "metadata": {},
   "outputs": [
    {
     "data": {
      "text/plain": [
       "{7, 9, 11, 15}"
      ]
     },
     "execution_count": 32,
     "metadata": {},
     "output_type": "execute_result"
    }
   ],
   "source": [
    "a.difference(b, c)"
   ]
  },
  {
   "cell_type": "code",
   "execution_count": 33,
   "metadata": {},
   "outputs": [
    {
     "data": {
      "text/plain": [
       "{7, 9, 11, 15}"
      ]
     },
     "execution_count": 33,
     "metadata": {},
     "output_type": "execute_result"
    }
   ],
   "source": [
    "a - b - c"
   ]
  },
  {
   "cell_type": "code",
   "execution_count": 34,
   "metadata": {},
   "outputs": [
    {
     "data": {
      "text/plain": [
       "{4, 6, 10, 12, 14, 16, 18}"
      ]
     },
     "execution_count": 34,
     "metadata": {},
     "output_type": "execute_result"
    }
   ],
   "source": [
    "b.difference(a, c)"
   ]
  },
  {
   "cell_type": "code",
   "execution_count": 35,
   "metadata": {},
   "outputs": [
    {
     "data": {
      "text/plain": [
       "{4, 6, 10, 12, 14, 16, 18}"
      ]
     },
     "execution_count": 35,
     "metadata": {},
     "output_type": "execute_result"
    }
   ],
   "source": [
    "b - a - c"
   ]
  },
  {
   "cell_type": "code",
   "execution_count": 36,
   "metadata": {},
   "outputs": [
    {
     "data": {
      "text/plain": [
       "{21, 34}"
      ]
     },
     "execution_count": 36,
     "metadata": {},
     "output_type": "execute_result"
    }
   ],
   "source": [
    "c.difference(a, b)"
   ]
  },
  {
   "cell_type": "code",
   "execution_count": 37,
   "metadata": {},
   "outputs": [
    {
     "data": {
      "text/plain": [
       "{21, 34}"
      ]
     },
     "execution_count": 37,
     "metadata": {},
     "output_type": "execute_result"
    }
   ],
   "source": [
    "c - a - b"
   ]
  },
  {
   "cell_type": "markdown",
   "metadata": {},
   "source": [
    "#### Симметрическая разность"
   ]
  },
  {
   "cell_type": "code",
   "execution_count": 38,
   "metadata": {},
   "outputs": [
    {
     "data": {
      "text/plain": [
       "{1, 2, 3, 4, 5, 6, 7, 8, 9, 10, 11, 12, 13, 14, 15, 16, 18}"
      ]
     },
     "execution_count": 38,
     "metadata": {},
     "output_type": "execute_result"
    }
   ],
   "source": [
    "a.symmetric_difference(b)"
   ]
  },
  {
   "cell_type": "code",
   "execution_count": 39,
   "metadata": {},
   "outputs": [
    {
     "data": {
      "text/plain": [
       "{1, 2, 3, 4, 5, 6, 7, 8, 9, 10, 11, 12, 13, 14, 15, 16, 18}"
      ]
     },
     "execution_count": 39,
     "metadata": {},
     "output_type": "execute_result"
    }
   ],
   "source": [
    "a ^ b"
   ]
  },
  {
   "cell_type": "code",
   "execution_count": 40,
   "metadata": {},
   "outputs": [
    {
     "data": {
      "text/plain": [
       "{1, 3, 4, 5, 6, 10, 12, 13, 14, 16, 18, 21, 34}"
      ]
     },
     "execution_count": 40,
     "metadata": {},
     "output_type": "execute_result"
    }
   ],
   "source": [
    "b.symmetric_difference(c)"
   ]
  },
  {
   "cell_type": "code",
   "execution_count": 41,
   "metadata": {},
   "outputs": [
    {
     "data": {
      "text/plain": [
       "{1, 3, 4, 5, 6, 10, 12, 13, 14, 16, 18, 21, 34}"
      ]
     },
     "execution_count": 41,
     "metadata": {},
     "output_type": "execute_result"
    }
   ],
   "source": [
    "b ^ c"
   ]
  },
  {
   "cell_type": "code",
   "execution_count": 42,
   "metadata": {},
   "outputs": [
    {
     "data": {
      "text/plain": [
       "{2, 7, 8, 9, 11, 15, 21, 34}"
      ]
     },
     "execution_count": 42,
     "metadata": {},
     "output_type": "execute_result"
    }
   ],
   "source": [
    "c.symmetric_difference(a)"
   ]
  },
  {
   "cell_type": "code",
   "execution_count": 43,
   "metadata": {},
   "outputs": [
    {
     "data": {
      "text/plain": [
       "{2, 7, 8, 9, 11, 15, 21, 34}"
      ]
     },
     "execution_count": 43,
     "metadata": {},
     "output_type": "execute_result"
    }
   ],
   "source": [
    "c ^ a"
   ]
  },
  {
   "cell_type": "markdown",
   "metadata": {},
   "source": [
    "#### Декартово произведение"
   ]
  },
  {
   "cell_type": "code",
   "execution_count": 44,
   "metadata": {},
   "outputs": [],
   "source": [
    "def cartesian_product(set_1, set_2):\n",
    "    \"\"\"\n",
    "    Returns a set from multiple sets.\n",
    "    \n",
    "    For sets set_1 and set_2, the Cartesian product set_1 × set_2 is \n",
    "    the set of all ordered pairs (x, y) where x ∈ set_1 and y ∈ set_2. \n",
    "    \"\"\"\n",
    "    x = list(set_1)\n",
    "    y = list(set_2)\n",
    "    product = []\n",
    "    for i in x:\n",
    "        for j in y:\n",
    "            z = (i, j)\n",
    "            product.append(z)\n",
    "    result = set(product)\n",
    "    return result   "
   ]
  },
  {
   "cell_type": "code",
   "execution_count": 45,
   "metadata": {},
   "outputs": [
    {
     "data": {
      "text/plain": [
       "{(1, 2),\n",
       " (1, 4),\n",
       " (1, 6),\n",
       " (1, 8),\n",
       " (1, 10),\n",
       " (1, 12),\n",
       " (1, 14),\n",
       " (1, 16),\n",
       " (1, 18),\n",
       " (3, 2),\n",
       " (3, 4),\n",
       " (3, 6),\n",
       " (3, 8),\n",
       " (3, 10),\n",
       " (3, 12),\n",
       " (3, 14),\n",
       " (3, 16),\n",
       " (3, 18),\n",
       " (5, 2),\n",
       " (5, 4),\n",
       " (5, 6),\n",
       " (5, 8),\n",
       " (5, 10),\n",
       " (5, 12),\n",
       " (5, 14),\n",
       " (5, 16),\n",
       " (5, 18),\n",
       " (7, 2),\n",
       " (7, 4),\n",
       " (7, 6),\n",
       " (7, 8),\n",
       " (7, 10),\n",
       " (7, 12),\n",
       " (7, 14),\n",
       " (7, 16),\n",
       " (7, 18),\n",
       " (9, 2),\n",
       " (9, 4),\n",
       " (9, 6),\n",
       " (9, 8),\n",
       " (9, 10),\n",
       " (9, 12),\n",
       " (9, 14),\n",
       " (9, 16),\n",
       " (9, 18),\n",
       " (11, 2),\n",
       " (11, 4),\n",
       " (11, 6),\n",
       " (11, 8),\n",
       " (11, 10),\n",
       " (11, 12),\n",
       " (11, 14),\n",
       " (11, 16),\n",
       " (11, 18),\n",
       " (13, 2),\n",
       " (13, 4),\n",
       " (13, 6),\n",
       " (13, 8),\n",
       " (13, 10),\n",
       " (13, 12),\n",
       " (13, 14),\n",
       " (13, 16),\n",
       " (13, 18),\n",
       " (15, 2),\n",
       " (15, 4),\n",
       " (15, 6),\n",
       " (15, 8),\n",
       " (15, 10),\n",
       " (15, 12),\n",
       " (15, 14),\n",
       " (15, 16),\n",
       " (15, 18)}"
      ]
     },
     "execution_count": 45,
     "metadata": {},
     "output_type": "execute_result"
    }
   ],
   "source": [
    "cartesian_product(a, b)"
   ]
  },
  {
   "cell_type": "code",
   "execution_count": 46,
   "metadata": {},
   "outputs": [
    {
     "data": {
      "text/plain": [
       "{(2, 1),\n",
       " (2, 2),\n",
       " (2, 3),\n",
       " (2, 5),\n",
       " (2, 8),\n",
       " (2, 13),\n",
       " (2, 21),\n",
       " (2, 34),\n",
       " (4, 1),\n",
       " (4, 2),\n",
       " (4, 3),\n",
       " (4, 5),\n",
       " (4, 8),\n",
       " (4, 13),\n",
       " (4, 21),\n",
       " (4, 34),\n",
       " (6, 1),\n",
       " (6, 2),\n",
       " (6, 3),\n",
       " (6, 5),\n",
       " (6, 8),\n",
       " (6, 13),\n",
       " (6, 21),\n",
       " (6, 34),\n",
       " (8, 1),\n",
       " (8, 2),\n",
       " (8, 3),\n",
       " (8, 5),\n",
       " (8, 8),\n",
       " (8, 13),\n",
       " (8, 21),\n",
       " (8, 34),\n",
       " (10, 1),\n",
       " (10, 2),\n",
       " (10, 3),\n",
       " (10, 5),\n",
       " (10, 8),\n",
       " (10, 13),\n",
       " (10, 21),\n",
       " (10, 34),\n",
       " (12, 1),\n",
       " (12, 2),\n",
       " (12, 3),\n",
       " (12, 5),\n",
       " (12, 8),\n",
       " (12, 13),\n",
       " (12, 21),\n",
       " (12, 34),\n",
       " (14, 1),\n",
       " (14, 2),\n",
       " (14, 3),\n",
       " (14, 5),\n",
       " (14, 8),\n",
       " (14, 13),\n",
       " (14, 21),\n",
       " (14, 34),\n",
       " (16, 1),\n",
       " (16, 2),\n",
       " (16, 3),\n",
       " (16, 5),\n",
       " (16, 8),\n",
       " (16, 13),\n",
       " (16, 21),\n",
       " (16, 34),\n",
       " (18, 1),\n",
       " (18, 2),\n",
       " (18, 3),\n",
       " (18, 5),\n",
       " (18, 8),\n",
       " (18, 13),\n",
       " (18, 21),\n",
       " (18, 34)}"
      ]
     },
     "execution_count": 46,
     "metadata": {},
     "output_type": "execute_result"
    }
   ],
   "source": [
    "cartesian_product(b, c)"
   ]
  },
  {
   "cell_type": "code",
   "execution_count": 47,
   "metadata": {},
   "outputs": [
    {
     "data": {
      "text/plain": [
       "{(1, 1),\n",
       " (1, 2),\n",
       " (1, 3),\n",
       " (1, 5),\n",
       " (1, 8),\n",
       " (1, 13),\n",
       " (1, 21),\n",
       " (1, 34),\n",
       " (3, 1),\n",
       " (3, 2),\n",
       " (3, 3),\n",
       " (3, 5),\n",
       " (3, 8),\n",
       " (3, 13),\n",
       " (3, 21),\n",
       " (3, 34),\n",
       " (5, 1),\n",
       " (5, 2),\n",
       " (5, 3),\n",
       " (5, 5),\n",
       " (5, 8),\n",
       " (5, 13),\n",
       " (5, 21),\n",
       " (5, 34),\n",
       " (7, 1),\n",
       " (7, 2),\n",
       " (7, 3),\n",
       " (7, 5),\n",
       " (7, 8),\n",
       " (7, 13),\n",
       " (7, 21),\n",
       " (7, 34),\n",
       " (9, 1),\n",
       " (9, 2),\n",
       " (9, 3),\n",
       " (9, 5),\n",
       " (9, 8),\n",
       " (9, 13),\n",
       " (9, 21),\n",
       " (9, 34),\n",
       " (11, 1),\n",
       " (11, 2),\n",
       " (11, 3),\n",
       " (11, 5),\n",
       " (11, 8),\n",
       " (11, 13),\n",
       " (11, 21),\n",
       " (11, 34),\n",
       " (13, 1),\n",
       " (13, 2),\n",
       " (13, 3),\n",
       " (13, 5),\n",
       " (13, 8),\n",
       " (13, 13),\n",
       " (13, 21),\n",
       " (13, 34),\n",
       " (15, 1),\n",
       " (15, 2),\n",
       " (15, 3),\n",
       " (15, 5),\n",
       " (15, 8),\n",
       " (15, 13),\n",
       " (15, 21),\n",
       " (15, 34)}"
      ]
     },
     "execution_count": 47,
     "metadata": {},
     "output_type": "execute_result"
    }
   ],
   "source": [
    "cartesian_product(a, c)"
   ]
  },
  {
   "cell_type": "code",
   "execution_count": 48,
   "metadata": {},
   "outputs": [],
   "source": [
    "def cartesian_product_3(set_1, set_2, set_3):\n",
    "    \"\"\"\n",
    "    Returns a set from multiple sets.\n",
    "    \n",
    "    For sets set_1, set_2 and set_3 the Cartesian product set_1 × set_2 × set_3 is \n",
    "    the set of all ordered tuples (x, y, z) where x ∈ set_1, y ∈ set_2 and z ∈ set_3. \n",
    "    \"\"\"\n",
    "    x = list(set_1)\n",
    "    y = list(set_2)\n",
    "    z = list(set_3)\n",
    "    product = []\n",
    "    for i in x:\n",
    "        for j in y:\n",
    "            for k in z:\n",
    "                t = (i, j, k)\n",
    "            product.append(t)\n",
    "    result = set(product)\n",
    "    return result"
   ]
  },
  {
   "cell_type": "code",
   "execution_count": 49,
   "metadata": {},
   "outputs": [
    {
     "data": {
      "text/plain": [
       "{(1, 2, 21),\n",
       " (1, 4, 21),\n",
       " (1, 6, 21),\n",
       " (1, 8, 21),\n",
       " (1, 10, 21),\n",
       " (1, 12, 21),\n",
       " (1, 14, 21),\n",
       " (1, 16, 21),\n",
       " (1, 18, 21),\n",
       " (3, 2, 21),\n",
       " (3, 4, 21),\n",
       " (3, 6, 21),\n",
       " (3, 8, 21),\n",
       " (3, 10, 21),\n",
       " (3, 12, 21),\n",
       " (3, 14, 21),\n",
       " (3, 16, 21),\n",
       " (3, 18, 21),\n",
       " (5, 2, 21),\n",
       " (5, 4, 21),\n",
       " (5, 6, 21),\n",
       " (5, 8, 21),\n",
       " (5, 10, 21),\n",
       " (5, 12, 21),\n",
       " (5, 14, 21),\n",
       " (5, 16, 21),\n",
       " (5, 18, 21),\n",
       " (7, 2, 21),\n",
       " (7, 4, 21),\n",
       " (7, 6, 21),\n",
       " (7, 8, 21),\n",
       " (7, 10, 21),\n",
       " (7, 12, 21),\n",
       " (7, 14, 21),\n",
       " (7, 16, 21),\n",
       " (7, 18, 21),\n",
       " (9, 2, 21),\n",
       " (9, 4, 21),\n",
       " (9, 6, 21),\n",
       " (9, 8, 21),\n",
       " (9, 10, 21),\n",
       " (9, 12, 21),\n",
       " (9, 14, 21),\n",
       " (9, 16, 21),\n",
       " (9, 18, 21),\n",
       " (11, 2, 21),\n",
       " (11, 4, 21),\n",
       " (11, 6, 21),\n",
       " (11, 8, 21),\n",
       " (11, 10, 21),\n",
       " (11, 12, 21),\n",
       " (11, 14, 21),\n",
       " (11, 16, 21),\n",
       " (11, 18, 21),\n",
       " (13, 2, 21),\n",
       " (13, 4, 21),\n",
       " (13, 6, 21),\n",
       " (13, 8, 21),\n",
       " (13, 10, 21),\n",
       " (13, 12, 21),\n",
       " (13, 14, 21),\n",
       " (13, 16, 21),\n",
       " (13, 18, 21),\n",
       " (15, 2, 21),\n",
       " (15, 4, 21),\n",
       " (15, 6, 21),\n",
       " (15, 8, 21),\n",
       " (15, 10, 21),\n",
       " (15, 12, 21),\n",
       " (15, 14, 21),\n",
       " (15, 16, 21),\n",
       " (15, 18, 21)}"
      ]
     },
     "execution_count": 49,
     "metadata": {},
     "output_type": "execute_result"
    }
   ],
   "source": [
    "cartesian_product_3(a, b, c)"
   ]
  },
  {
   "cell_type": "markdown",
   "metadata": {},
   "source": [
    "# Тема 3"
   ]
  },
  {
   "cell_type": "markdown",
   "metadata": {},
   "source": [
    "## Задание 3"
   ]
  },
  {
   "cell_type": "markdown",
   "metadata": {},
   "source": [
    "### Даны 4 последовательности.  Необходимо:   \n",
    "#### 1) исследовать их на монотонность;    \n",
    "#### 2) исследовать на ограниченность;   \n",
    "#### 3) найти пятый по счету член.\n"
   ]
  },
  {
   "cell_type": "markdown",
   "metadata": {},
   "source": [
    "$\\left\\{a_{n}\\right\\}_{n=1}^{\\infty}=2^{n}-n$"
   ]
  },
  {
   "cell_type": "code",
   "execution_count": 50,
   "metadata": {},
   "outputs": [],
   "source": [
    "def a_n(n):\n",
    "    \"\"\"\n",
    "    Reterns the n-th element of the sequence.\n",
    "    \"\"\"\n",
    "    a_n = 2 ** n - n\n",
    "    return a_n"
   ]
  },
  {
   "cell_type": "code",
   "execution_count": 51,
   "metadata": {},
   "outputs": [
    {
     "data": {
      "text/plain": [
       "(1, 2, 5, 12, 1267650600228229401496703205276, 2535301200456458802993406410651)"
      ]
     },
     "execution_count": 51,
     "metadata": {},
     "output_type": "execute_result"
    }
   ],
   "source": [
    "a_n(1), a_n(2), a_n(3), a_n(4), a_n(100), a_n(101)"
   ]
  },
  {
   "cell_type": "markdown",
   "metadata": {},
   "source": [
    "Последовательность возрастающая, т. к. $a_{n+1}>a_{n}$, не ограничена сверху."
   ]
  },
  {
   "cell_type": "code",
   "execution_count": 52,
   "metadata": {},
   "outputs": [
    {
     "name": "stdout",
     "output_type": "stream",
     "text": [
      "Ответ: пятый по счету член последовательности равен 27.\n"
     ]
    }
   ],
   "source": [
    "print(f'Ответ: пятый по счету член последовательности равен {a_n(5)}.')"
   ]
  },
  {
   "cell_type": "markdown",
   "metadata": {},
   "source": [
    "$\\left\\{b_{n}\\right\\}_{n=2}^{\\infty}=\\frac{1}{1-n}$"
   ]
  },
  {
   "cell_type": "code",
   "execution_count": 53,
   "metadata": {},
   "outputs": [],
   "source": [
    "def b_n(n):\n",
    "    \"\"\"\n",
    "    Reterns the n-th element of the sequence.\n",
    "    \"\"\"\n",
    "    b_n = 1 / (1 - n)\n",
    "    return b_n"
   ]
  },
  {
   "cell_type": "code",
   "execution_count": 54,
   "metadata": {},
   "outputs": [
    {
     "data": {
      "text/plain": [
       "(-1.0, -0.5, -0.3333333333333333, -0.00010001000100010001, -1.00000001e-08)"
      ]
     },
     "execution_count": 54,
     "metadata": {},
     "output_type": "execute_result"
    }
   ],
   "source": [
    "b_n(2), b_n(3), b_n(4), b_n(10000), b_n(100000000)"
   ]
  },
  {
   "cell_type": "markdown",
   "metadata": {},
   "source": [
    "Последовательность возрастающая, т. к. $a_{n+1}>a_{n}$, ограничена сверху 0."
   ]
  },
  {
   "cell_type": "code",
   "execution_count": 55,
   "metadata": {},
   "outputs": [
    {
     "name": "stdout",
     "output_type": "stream",
     "text": [
      "Ответ: пятый по счету член последовательности равен -0.25.\n"
     ]
    }
   ],
   "source": [
    "print(f'Ответ: пятый по счету член последовательности равен {b_n(5)}.')"
   ]
  },
  {
   "cell_type": "markdown",
   "metadata": {},
   "source": [
    "$\\left\\{c_{n}\\right\\}_{n=1}^{\\infty}=-1^{n}+\\sqrt{2 n}$"
   ]
  },
  {
   "cell_type": "code",
   "execution_count": 56,
   "metadata": {},
   "outputs": [],
   "source": [
    "def c_n(n):\n",
    "    \"\"\"\n",
    "    Reterns the n-th element of the sequence.\n",
    "    \"\"\"\n",
    "    c_n = (-1) ** n + (2 * n) ** 0.5\n",
    "    return c_n"
   ]
  },
  {
   "cell_type": "code",
   "execution_count": 57,
   "metadata": {},
   "outputs": [
    {
     "data": {
      "text/plain": [
       "(0.41421356237309515,\n",
       " 3.0,\n",
       " 1.4494897427831779,\n",
       " 3.8284271247461903,\n",
       " 45.721359549995796,\n",
       " 448.21359549995793)"
      ]
     },
     "execution_count": 57,
     "metadata": {},
     "output_type": "execute_result"
    }
   ],
   "source": [
    "c_n(1), c_n(2), c_n(3), c_n(4), c_n(1000), c_n(100000)"
   ]
  },
  {
   "cell_type": "markdown",
   "metadata": {},
   "source": [
    "Последовательность не монотонна, возрастает при n > 3, сверху не ограничена."
   ]
  },
  {
   "cell_type": "code",
   "execution_count": 58,
   "metadata": {},
   "outputs": [
    {
     "name": "stdout",
     "output_type": "stream",
     "text": [
      "Ответ: пятый по счету член последовательности равен 2.1622776601683795.\n"
     ]
    }
   ],
   "source": [
    "print(f'Ответ: пятый по счету член последовательности равен {c_n(5)}.')"
   ]
  },
  {
   "cell_type": "markdown",
   "metadata": {},
   "source": [
    "$\\left\\{d_{n}\\right\\}_{n=1}^{\\infty}=(-1)^{2 n}+\\frac{1}{n^{2}}$"
   ]
  },
  {
   "cell_type": "code",
   "execution_count": 59,
   "metadata": {},
   "outputs": [],
   "source": [
    "def d_n(n):\n",
    "    \"\"\"\n",
    "    Reterns the n-th element of the sequence.\n",
    "    \"\"\"\n",
    "    d_n = (-1) ** (2 * n) + (1 / (n ** 2))\n",
    "    return d_n"
   ]
  },
  {
   "cell_type": "code",
   "execution_count": 60,
   "metadata": {},
   "outputs": [
    {
     "data": {
      "text/plain": [
       "(2.0,\n",
       " 1.25,\n",
       " 1.1111111111111112,\n",
       " 1.0625,\n",
       " 1.000001,\n",
       " 1.000000998002996,\n",
       " 1.00000000000001)"
      ]
     },
     "execution_count": 60,
     "metadata": {},
     "output_type": "execute_result"
    }
   ],
   "source": [
    "d_n(1), d_n(2), d_n(3), d_n(4), d_n(1000), d_n(1001), d_n(10000000)"
   ]
  },
  {
   "cell_type": "markdown",
   "metadata": {},
   "source": [
    "Последовательность убывающая, т. к. $a_{n+1}<a_{n}$, снизу ограничена 1."
   ]
  },
  {
   "cell_type": "code",
   "execution_count": 61,
   "metadata": {},
   "outputs": [
    {
     "name": "stdout",
     "output_type": "stream",
     "text": [
      "Ответ: пятый по счету член последовательности равен 1.04.\n"
     ]
    }
   ],
   "source": [
    "print(f'Ответ: пятый по счету член последовательности равен {d_n(5)}.')"
   ]
  },
  {
   "cell_type": "markdown",
   "metadata": {},
   "source": [
    "## Задание 4"
   ]
  },
  {
   "cell_type": "markdown",
   "metadata": {},
   "source": [
    "$a_1 = 128$,    \n",
    "$a_{n + 1} - a_n = 6$"
   ]
  },
  {
   "cell_type": "markdown",
   "metadata": {},
   "source": [
    "найти 12-й член заданной неявно последовательности"
   ]
  },
  {
   "cell_type": "markdown",
   "metadata": {},
   "source": [
    "$a_n = 6{n} + 122$"
   ]
  },
  {
   "cell_type": "code",
   "execution_count": 62,
   "metadata": {},
   "outputs": [],
   "source": [
    "def a_n(n):\n",
    "    \"\"\"\n",
    "    Reterns the n-th element of the sequence.\n",
    "    \"\"\"\n",
    "    a_n = 6 * n + 122\n",
    "    return a_n"
   ]
  },
  {
   "cell_type": "code",
   "execution_count": 63,
   "metadata": {},
   "outputs": [
    {
     "name": "stdout",
     "output_type": "stream",
     "text": [
      "Ответ: 12-й по счету член последовательности равен 194.\n"
     ]
    }
   ],
   "source": [
    "print(f'Ответ: 12-й по счету член последовательности равен {a_n(12)}.')"
   ]
  },
  {
   "cell_type": "markdown",
   "metadata": {},
   "source": [
    "## Задание 5"
   ]
  },
  {
   "cell_type": "markdown",
   "metadata": {},
   "source": [
    "### *На языке Python предложить алгоритм вычисляющий численно предел    $$\\lim _{n \\rightarrow+\\infty} \\frac{n}{\\sqrt[n]{n !}}$$   с точностью $\\varepsilon=10^{-7}$ "
   ]
  },
  {
   "cell_type": "markdown",
   "metadata": {},
   "source": [
    "Для решения будем использовать сходимость последовательности по Коши."
   ]
  },
  {
   "cell_type": "markdown",
   "metadata": {},
   "source": [
    "$\\lim _{n \\rightarrow \\infty}\\left\\{x_{n}\\right\\}=a \\Leftrightarrow \\forall \\varepsilon>0 \\exists N(\\varepsilon) \\forall n, m>N(\\varepsilon) :\\left|x_{n}-x_{m}\\right|<\\varepsilon$"
   ]
  },
  {
   "cell_type": "markdown",
   "metadata": {},
   "source": [
    "Если найдем такие n и m, что $\\left|a_{n}-a_{m}\\right|<10^{-7}$, то найдем окрестность $\\varepsilon$, в которой находится бесконечное число элементов последовательности, значения которых стремятся к пределу. Пусть n = m + 100. Если разность между значениями элементов последовательности меньше $\\varepsilon$, то мы нашли окрестность $\\varepsilon$, а предел будет приблизительно равен $a_m + \\varepsilon$."
   ]
  },
  {
   "cell_type": "code",
   "execution_count": 64,
   "metadata": {},
   "outputs": [],
   "source": [
    "from math import factorial"
   ]
  },
  {
   "cell_type": "code",
   "execution_count": 65,
   "metadata": {},
   "outputs": [],
   "source": [
    "# m = 1\n",
    "# while ((m + 100) / (factorial(m + 100) ** (1 / (m + 100)))) - (m / (factorial(m) ** (1 / m))) > 1e-7:\n",
    "#     m += 1\n",
    "# print(m)\n",
    "# print(f'Предел последовательности приблизительно равен {(m / (factorial(m) ** (1 / m)) + 1e-7)}')"
   ]
  },
  {
   "cell_type": "markdown",
   "metadata": {},
   "source": [
    "К сожалению, не могу проверить работу алгоритма из-за ошибки: OverflowError: int too large to convert to float. Но алгоритм я предложила."
   ]
  },
  {
   "cell_type": "markdown",
   "metadata": {},
   "source": [
    "Решение:"
   ]
  },
  {
   "cell_type": "code",
   "execution_count": 66,
   "metadata": {},
   "outputs": [],
   "source": [
    "import numpy as np\n",
    "import pandas as pd\n",
    "import matplotlib.pyplot as plt\n",
    "\n",
    "%matplotlib inline"
   ]
  },
  {
   "cell_type": "code",
   "execution_count": 67,
   "metadata": {},
   "outputs": [],
   "source": [
    "def a_n(n):\n",
    "    \"\"\"\n",
    "    Reterns the plot of the sequence from the 1-st up to the n-th element.\n",
    "    \"\"\"\n",
    "    s = []\n",
    "    for i in range(1, n + 1):\n",
    "        s.append(i / (factorial(i) ** (1 / i)))\n",
    "    return plt.plot(s)"
   ]
  },
  {
   "cell_type": "code",
   "execution_count": 68,
   "metadata": {},
   "outputs": [
    {
     "data": {
      "text/plain": [
       "[<matplotlib.lines.Line2D at 0x270820c57f0>]"
      ]
     },
     "execution_count": 68,
     "metadata": {},
     "output_type": "execute_result"
    },
    {
     "data": {
      "image/png": "[encoded data removed]",
      "text/plain": [
       "<Figure size 432x288 with 1 Axes>"
      ]
     },
     "metadata": {
      "needs_background": "light"
     },
     "output_type": "display_data"
    }
   ],
   "source": [
    "a_n(170)"
   ]
  },
  {
   "cell_type": "markdown",
   "metadata": {},
   "source": [
    "Последовательность монотонно возрастает и ограничена сверху, значит, она имеет предел.\n"
   ]
  },
  {
   "cell_type": "markdown",
   "metadata": {},
   "source": [
    "#### Решение \"на листочке\":"
   ]
  },
  {
   "cell_type": "markdown",
   "metadata": {},
   "source": [
    "$\\lim _{n \\rightarrow \\infty} \\frac{n}{n !^{\\frac{1}{n}}}=\\lim _{n \\rightarrow \\infty}\\left(\\frac{n^{n}}{n !}\\right)^{\\frac{1}{n}}=\\lim _{n \\rightarrow \\infty} \\frac{(n+1)^{(n+1)}}{(n+1) !} \\cdot \\frac{n !}{n^{n}}=\\lim _{n \\rightarrow \\infty} \\frac{(n+1)^{n}}{n^{n}}=\\lim _{n \\rightarrow \\infty}\\left(1+\\frac{1}{n}\\right)^{n}=e$"
   ]
  },
  {
   "cell_type": "markdown",
   "metadata": {},
   "source": [
    " $$\n",
    "\\lim _{n \\rightarrow+\\infty} \\frac{n}{\\sqrt[n]{n !}} = e\n",
    "$$"
   ]
  },
  {
   "cell_type": "markdown",
   "metadata": {},
   "source": [
    "#### Решение на Python:"
   ]
  },
  {
   "cell_type": "code",
   "execution_count": 69,
   "metadata": {},
   "outputs": [],
   "source": [
    "from sympy import *\n",
    "init_printing()"
   ]
  },
  {
   "cell_type": "code",
   "execution_count": 70,
   "metadata": {},
   "outputs": [],
   "source": [
    "n = Symbol('n')"
   ]
  },
  {
   "cell_type": "code",
   "execution_count": 71,
   "metadata": {},
   "outputs": [
    {
     "data": {
      "image/png": "[encoded data removed]",
      "text/latex": [
       "$$e$$"
      ],
      "text/plain": [
       "ℯ"
      ]
     },
     "execution_count": 71,
     "metadata": {},
     "output_type": "execute_result"
    }
   ],
   "source": [
    "limit(n / (factorial(n) ** (1 / n)), n, oo)"
   ]
  },
  {
   "cell_type": "markdown",
   "metadata": {},
   "source": [
    "Ответ: предел последовательности равен числу Эйлера."
   ]
  },
  {
   "cell_type": "code",
   "execution_count": null,
   "metadata": {},
   "outputs": [],
   "source": []
  }
 ],
 "metadata": {
  "kernelspec": {
   "display_name": "Python 3",
   "language": "python",
   "name": "python3"
  },
  "language_info": {
   "codemirror_mode": {
    "name": "ipython",
    "version": 3
   },
   "file_extension": ".py",
   "mimetype": "text/x-python",
   "name": "python",
   "nbconvert_exporter": "python",
   "pygments_lexer": "ipython3",
   "version": "3.7.1"
  }
 },
 "nbformat": 4,
 "nbformat_minor": 2
}
